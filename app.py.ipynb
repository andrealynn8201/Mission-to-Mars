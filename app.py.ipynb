{
 "cells": [
  {
   "cell_type": "code",
   "execution_count": 8,
   "id": "8f2a34a9",
   "metadata": {},
   "outputs": [
    {
     "ename": "SyntaxError",
     "evalue": "EOL while scanning string literal (scraping.py, line 22)",
     "output_type": "error",
     "traceback": [
      "Traceback \u001b[0;36m(most recent call last)\u001b[0m:\n",
      "  File \u001b[1;32m\"/Users/andreadarrah/opt/anaconda3/lib/python3.9/site-packages/IPython/core/interactiveshell.py\"\u001b[0m, line \u001b[1;32m3444\u001b[0m, in \u001b[1;35mrun_code\u001b[0m\n    exec(code_obj, self.user_global_ns, self.user_ns)\n",
      "\u001b[0;36m  File \u001b[0;32m\"/var/folders/f_/5twpc38j10g0xh1n_x3nbrrh0000gn/T/ipykernel_7818/1581920617.py\"\u001b[0;36m, line \u001b[0;32m7\u001b[0;36m, in \u001b[0;35m<module>\u001b[0;36m\u001b[0m\n\u001b[0;31m    import scraping\u001b[0m\n",
      "\u001b[0;36m  File \u001b[0;32m\"/Users/andreadarrah/Desktop/classwork/Mission-to-Mars/scraping.py\"\u001b[0;36m, line \u001b[0;32m22\u001b[0m\n\u001b[0;31m    slide_elem = news_soup.select_one('div.list_text)\u001b[0m\n\u001b[0m                                                     ^\u001b[0m\n\u001b[0;31mSyntaxError\u001b[0m\u001b[0;31m:\u001b[0m EOL while scanning string literal\n"
     ]
    }
   ],
   "source": [
    "# Import dependencies\n",
    "# use Flask to render a template, redirecting to another url, and creating a URL.\n",
    "from flask import Flask, render_template, redirect, url_for\n",
    "# use PyMongo to interact with our Mongo database\n",
    "from flask_pymongo import PyMongo\n",
    "# to use the scraping code, we will convert from Jupyter notebook to Python.\n",
    "import scraping\n",
    "\n",
    "# Set up Flask\n",
    "app = Flask(__name__)\n",
    "\n",
    "# Use flask_pymongo to set up mongo connection\n",
    "#tells Python that our app will connect to Mongo using a URI, a uniform resource \n",
    "# identifier similar to a URL.\n",
    "\n",
    "# \"mongodb://localhost:27017/mars_app\" is the URI we'll be using to connect our app to Mongo. \n",
    "# This URI is saying that the app can reach Mongo through our localhost server, using port 27017, \n",
    "# using a database named \"mars_app\".\n",
    "app.config[\"MONGO_URI\"] = \"mongodb://localhost:27017/mars_app\"\n",
    "mongo = PyMongo(app)\n",
    "\n",
    "# define the route for the HTML page\n",
    "@app.rout('/')\n",
    "def index():\n",
    "    mars = mongo.db.mars.find_one()\n",
    "    return render_template('index.html', mars=mars)\n",
    "\n",
    "# next function will set up our scraping route. This route will be the \"button\" of the web application, \n",
    "# the one that will scrape updated data when we tell it to from the homepage of our web app. It'll be \n",
    "# tied to a button that will run the code when it's clicked.\n",
    "\n",
    "# defines the route that Flask will be using,“/scrape”, will run the function that we create just beneath it.\n",
    "@app.route('/scrape')\n",
    "# next lines allow us to access the database, scrape new data using our scraping.py script, update the database, \n",
    "# and return a message when successful. Let's break it down.\n",
    "def scrape():\n",
    "    # assign a new variable that points to our Mongo database\n",
    "    mars = mongo.db.mars\n",
    "    # created a new variable to hold the newly scraped data, we're referencing the scrape_all function in \n",
    "    # the scraping.py file exported from Jupyter Notebook.\n",
    "    mars_data = scraping.scrape_all()\n",
    "    # Now that we've gathered new data, we need to update the database using .update_one()\n",
    "    mars.update_one({}, {'$set':mars_data}, upsert=True)\n",
    "    # we will add a redirect after successfully scraping the data, This will navigate our page back to \n",
    "    # '/' where we can see the updated content.\n",
    "    return redirect('/', code=302)\n",
    "# final bit of code we need for Flask is to tell it to run\n",
    "if __name__ == '__main__':\n",
    "    app.run()"
   ]
  },
  {
   "cell_type": "code",
   "execution_count": null,
   "id": "0bcb8a17",
   "metadata": {},
   "outputs": [],
   "source": []
  },
  {
   "cell_type": "code",
   "execution_count": null,
   "id": "d591f44f",
   "metadata": {},
   "outputs": [],
   "source": []
  }
 ],
 "metadata": {
  "kernelspec": {
   "display_name": "pythondata",
   "language": "python",
   "name": "pythondata"
  },
  "language_info": {
   "codemirror_mode": {
    "name": "ipython",
    "version": 3
   },
   "file_extension": ".py",
   "mimetype": "text/x-python",
   "name": "python",
   "nbconvert_exporter": "python",
   "pygments_lexer": "ipython3",
   "version": "3.9.7"
  }
 },
 "nbformat": 4,
 "nbformat_minor": 5
}
